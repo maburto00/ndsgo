{
 "cells": [
  {
   "cell_type": "code",
   "execution_count": 1,
   "metadata": {
    "collapsed": true
   },
   "outputs": [],
   "source": [
    "def board2int(board):\n",
    "    state=0\n",
    "    #basically we are converting from base-3 to decimal\n",
    "    n=board.N\n",
    "    for i in range(n):\n",
    "        for j in range(n):\n",
    "            pos = (n * i + j)\n",
    "            if board.board[pos]=='b':\n",
    "                state = state + ((3**pos) * 1)\n",
    "            elif board.board[pos]=='w':\n",
    "                state = state + ((3 ** pos) * 1)\n",
    "    return state"
   ]
  },
  {
   "cell_type": "code",
   "execution_count": null,
   "metadata": {
    "collapsed": false
   },
   "outputs": [],
   "source": [
    ""
   ]
  },
  {
   "cell_type": "code",
   "execution_count": 9,
   "metadata": {
    "collapsed": false
   },
   "outputs": [
    {
     "name": "stdout",
     "output_type": "stream",
     "text": [
      "4  .  .  .  .\n",
      "3  .  .  .  .\n",
      "2  .  .  .  .\n",
      "1  .  .  .  .\n",
      "   A  B  C  D\n"
     ]
    }
   ],
   "source": [
    "from gomill.boards import Board\n",
    "board=Board(4)\n",
    "from gomill.ascii_boards import render_board\n",
    "print(render_board(board))"
   ]
  },
  {
   "cell_type": "code",
   "execution_count": 10,
   "metadata": {
    "collapsed": false
   },
   "outputs": [
    {
     "name": "stdout",
     "output_type": "stream",
     "text": [
      "4  .  .  .  .\n",
      "3  .  #  .  .\n",
      "2  #  .  #  .\n",
      "1  .  #  .  .\n",
      "   A  B  C  D\n"
     ]
    }
   ],
   "source": [
    "board.play(0,1,'b')\n",
    "board.play(1,0,'b')\n",
    "board.play(2,1,'b')\n",
    "board.play(1,2,'b')\n",
    "print(render_board(board))"
   ]
  },
  {
   "cell_type": "code",
   "execution_count": 16,
   "metadata": {
    "collapsed": false
   },
   "outputs": [
    {
     "name": "stdout",
     "output_type": "stream",
     "text": [
      "4  .  .  .  .\n",
      "3  .  #  .  .\n",
      "2  #  .  #  o\n",
      "1  .  #  .  .\n",
      "   A  B  C  D\n"
     ]
    }
   ],
   "source": [
    "board.play(1,1,'w')\n",
    "print(render_board(board))"
   ]
  },
  {
   "cell_type": "code",
   "execution_count": null,
   "metadata": {
    "collapsed": true
   },
   "outputs": [],
   "source": [
    ""
   ]
  }
 ],
 "metadata": {
  "kernelspec": {
   "display_name": "Python 3",
   "language": "python",
   "name": "python3"
  },
  "language_info": {
   "codemirror_mode": {
    "name": "ipython",
    "version": 3.0
   },
   "file_extension": ".py",
   "mimetype": "text/x-python",
   "name": "python",
   "nbconvert_exporter": "python",
   "pygments_lexer": "ipython3",
   "version": "3.5.1"
  }
 },
 "nbformat": 4,
 "nbformat_minor": 0
}