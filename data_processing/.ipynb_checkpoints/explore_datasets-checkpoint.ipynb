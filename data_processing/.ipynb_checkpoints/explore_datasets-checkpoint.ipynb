{
 "cells": [
  {
   "cell_type": "markdown",
   "metadata": {
    "collapsed": true
   },
   "source": [
    "## Explore"
   ]
  },
  {
   "cell_type": "code",
   "execution_count": 1,
   "metadata": {
    "collapsed": true
   },
   "outputs": [],
   "source": [
    "filename='9x9_10games'\n",
    "#filename='gogod_9x9_games'"
   ]
  },
  {
   "cell_type": "markdown",
   "metadata": {},
   "source": [
    "### TEST"
   ]
  },
  {
   "cell_type": "code",
   "execution_count": 4,
   "metadata": {
    "collapsed": false
   },
   "outputs": [
    {
     "ename": "TypeError",
     "evalue": "can't multiply sequence by non-int of type 'str'",
     "output_type": "error",
     "traceback": [
      "\u001b[0;31m---------------------------------------------------------------------------\u001b[0m",
      "\u001b[0;31mTypeError\u001b[0m                                 Traceback (most recent call last)",
      "\u001b[0;32m<ipython-input-4-42d811baf778>\u001b[0m in \u001b[0;36m<module>\u001b[0;34m()\u001b[0m\n\u001b[1;32m     12\u001b[0m     \u001b[0msize_3\u001b[0m\u001b[0;34m=\u001b[0m\u001b[0mbytestream\u001b[0m\u001b[0;34m.\u001b[0m\u001b[0mread\u001b[0m\u001b[0;34m(\u001b[0m\u001b[0;36m4\u001b[0m\u001b[0;34m)\u001b[0m\u001b[0;34m\u001b[0m\u001b[0m\n\u001b[1;32m     13\u001b[0m     \u001b[0mdata\u001b[0m\u001b[0;34m=\u001b[0m\u001b[0mbytestream\u001b[0m\u001b[0;34m.\u001b[0m\u001b[0mread\u001b[0m\u001b[0;34m(\u001b[0m\u001b[0;34m)\u001b[0m\u001b[0;34m\u001b[0m\u001b[0m\n\u001b[0;32m---> 14\u001b[0;31m \u001b[0;32mprint\u001b[0m\u001b[0;34m(\u001b[0m\u001b[0mnum_images\u001b[0m\u001b[0;34m,\u001b[0m\u001b[0msize_1\u001b[0m\u001b[0;34m,\u001b[0m\u001b[0msize_2\u001b[0m\u001b[0;34m,\u001b[0m\u001b[0msize_3\u001b[0m\u001b[0;34m,\u001b[0m\u001b[0mlen\u001b[0m\u001b[0;34m(\u001b[0m\u001b[0mdata\u001b[0m\u001b[0;34m)\u001b[0m\u001b[0;34m,\u001b[0m\u001b[0mlen\u001b[0m\u001b[0;34m(\u001b[0m\u001b[0mdata\u001b[0m\u001b[0;34m)\u001b[0m\u001b[0;34m/\u001b[0m\u001b[0;34m(\u001b[0m\u001b[0msize_1\u001b[0m\u001b[0;34m*\u001b[0m\u001b[0msize_2\u001b[0m\u001b[0;34m*\u001b[0m\u001b[0msize_3\u001b[0m\u001b[0;34m)\u001b[0m\u001b[0;34m)\u001b[0m\u001b[0;34m\u001b[0m\u001b[0m\n\u001b[0m",
      "\u001b[0;31mTypeError\u001b[0m: can't multiply sequence by non-int of type 'str'"
     ]
    }
   ],
   "source": [
    "import gzip\n",
    "import struct\n",
    "    \n",
    "with gzip.open(filename+'-test-labels-idx1-ubyte.gz') as bytestream:\n",
    "    magic_number=bytestream.read(4)\n",
    "    \n",
    "with gzip.open(filename+'-test-vectors-idx4-ubyte.gz') as bytestream:\n",
    "    magic_number=bytestream.read(4)\n",
    "    num_images=struct.unpack('>I',bytestream.read(4))[0]\n",
    "    size_1=struct.unpack('>I',bytestream.read(4))[0]\n",
    "    size_2=struct.unpack('>I',bytestream.read(4))[0]\n",
    "    size_3=struct.unpack('>I',bytestream.read(4))[0]\n",
    "    data=bytestream.read()\n",
    "print(num_images,size_1,size_2,size_3,len(data),len(data)/(size_1*size_2*size_3))"
   ]
  },
  {
   "cell_type": "markdown",
   "metadata": {},
   "source": [
    "### TRAIN"
   ]
  },
  {
   "cell_type": "code",
   "execution_count": null,
   "metadata": {
    "collapsed": false
   },
   "outputs": [],
   "source": [
    "import gzip\n",
    "import struct\n",
    "    \n",
    "with gzip.open(filename+'-train-labels-idx1-ubyte.gz') as bytestream:\n",
    "    magic_number=bytestream.read(4)\n",
    "\n",
    "with gzip.open(filename+'-train-vectors-idx4-ubyte.gz') as bytestream:\n",
    "    magic_number=bytestream.read(4)\n",
    "    num_images=struct.unpack('>I',bytestream.read(4))[0]\n",
    "    size_1=bytestream.read(4)\n",
    "    size_2=bytestream.read(4)\n",
    "    size_3=bytestream.read(4)\n",
    "    data=bytestream.read()\n",
    "print(num_images,size_1,size_2,size_3,len(data))"
   ]
  },
  {
   "cell_type": "code",
   "execution_count": null,
   "metadata": {
    "collapsed": true
   },
   "outputs": [],
   "source": []
  }
 ],
 "metadata": {
  "anaconda-cloud": {},
  "kernelspec": {
   "display_name": "Python [default]",
   "language": "python",
   "name": "python2"
  },
  "language_info": {
   "codemirror_mode": {
    "name": "ipython",
    "version": 2
   },
   "file_extension": ".py",
   "mimetype": "text/x-python",
   "name": "python",
   "nbconvert_exporter": "python",
   "pygments_lexer": "ipython2",
   "version": "2.7.12"
  }
 },
 "nbformat": 4,
 "nbformat_minor": 0
}
