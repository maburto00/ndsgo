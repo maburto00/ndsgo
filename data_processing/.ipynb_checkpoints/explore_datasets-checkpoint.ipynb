{
 "cells": [
  {
   "cell_type": "markdown",
   "metadata": {
    "collapsed": true
   },
   "source": [
    "## FILE TO EXPLORE"
   ]
  },
  {
   "cell_type": "code",
   "execution_count": 1,
   "metadata": {
    "collapsed": true
   },
   "outputs": [],
   "source": [
    "#filename='9x9_10games'\n",
    "#filename='gogod_9x9_games'\n",
    "#filename='KGS2001'\n",
    "filename='KGS_10games'\n",
    "#filename='KGS_100games'"
   ]
  },
  {
   "cell_type": "code",
   "execution_count": 2,
   "metadata": {
    "collapsed": false
   },
   "outputs": [
    {
     "name": "stdout",
     "output_type": "stream",
     "text": [
      "/home/mario/Dropbox/PycharmProjects/ndsgo/data_processing\n"
     ]
    }
   ],
   "source": [
    "import os\n",
    "print(os.getcwd())\n",
    "\n",
    "import sys\n",
    "sys.path.append('my/path/to/module/folder')\n"
   ]
  },
  {
   "cell_type": "code",
   "execution_count": 3,
   "metadata": {
    "collapsed": false
   },
   "outputs": [
    {
     "name": "stdout",
     "output_type": "stream",
     "text": [
      "['', '/home/mario/anaconda3/envs/tensorenv2/lib/python27.zip', '/home/mario/anaconda3/envs/tensorenv2/lib/python2.7', '/home/mario/anaconda3/envs/tensorenv2/lib/python2.7/plat-linux2', '/home/mario/anaconda3/envs/tensorenv2/lib/python2.7/lib-tk', '/home/mario/anaconda3/envs/tensorenv2/lib/python2.7/lib-old', '/home/mario/anaconda3/envs/tensorenv2/lib/python2.7/lib-dynload', '/home/mario/anaconda3/envs/tensorenv2/lib/python2.7/site-packages', '/home/mario/anaconda3/envs/tensorenv2/lib/python2.7/site-packages/Sphinx-1.4.6-py2.7.egg', '/home/mario/anaconda3/envs/tensorenv2/lib/python2.7/site-packages/setuptools-27.2.0-py2.7.egg', '/home/mario/anaconda3/envs/tensorenv2/lib/python2.7/site-packages/IPython/extensions', '/home/mario/.ipython', 'my/path/to/module/folder']\n",
      "['', '/home/mario/anaconda3/envs/tensorenv2/lib/python27.zip', '/home/mario/anaconda3/envs/tensorenv2/lib/python2.7', '/home/mario/anaconda3/envs/tensorenv2/lib/python2.7/plat-linux2', '/home/mario/anaconda3/envs/tensorenv2/lib/python2.7/lib-tk', '/home/mario/anaconda3/envs/tensorenv2/lib/python2.7/lib-old', '/home/mario/anaconda3/envs/tensorenv2/lib/python2.7/lib-dynload', '/home/mario/anaconda3/envs/tensorenv2/lib/python2.7/site-packages', '/home/mario/anaconda3/envs/tensorenv2/lib/python2.7/site-packages/Sphinx-1.4.6-py2.7.egg', '/home/mario/anaconda3/envs/tensorenv2/lib/python2.7/site-packages/setuptools-27.2.0-py2.7.egg', '/home/mario/anaconda3/envs/tensorenv2/lib/python2.7/site-packages/IPython/extensions', '/home/mario/.ipython', 'my/path/to/module/folder', '/home/mario/Dropbox/PycharmProjects/ndsgo/']\n"
     ]
    }
   ],
   "source": [
    "import sys\n",
    "\n",
    "print(sys.path)\n",
    "\n",
    "#add '/home/mario/Dropbox/PycharmProject/ndsgo/' to path\n",
    "sys.path.append('/home/mario/Dropbox/PycharmProjects/ndsgo/')\n",
    "print(sys.path)"
   ]
  },
  {
   "cell_type": "markdown",
   "metadata": {},
   "source": [
    "## READ PROPERTIES FILE"
   ]
  },
  {
   "cell_type": "code",
   "execution_count": 4,
   "metadata": {
    "collapsed": false
   },
   "outputs": [
    {
     "name": "stdout",
     "output_type": "stream",
     "text": [
      "([286, 286, 286, 286, 286, 284], 1714, 1430, 284, 4, 19)\n"
     ]
    }
   ],
   "source": [
    "with open(filename+'.prop','r') as f:\n",
    "    \n",
    "    class Properties():\n",
    "        pass\n",
    "    properties=Properties\n",
    "    properties.ind_num_examples=[int(c) for c in f.readline().strip().split(',')]\n",
    "    properties.train_num_examples=sum(properties.ind_num_examples[:-1])\n",
    "    properties.test_num_examples=int(properties.ind_num_examples[-1])\n",
    "    properties.total_num_examples=properties.train_num_examples+properties.test_num_examples\n",
    "    properties.num_channels=int(f.readline().strip())\n",
    "    properties.boardsize=int(f.readline().strip())\n",
    "print(properties.ind_num_examples,properties.total_num_examples,properties.train_num_examples,\n",
    "      properties.test_num_examples,properties.num_channels,properties.boardsize)"
   ]
  },
  {
   "cell_type": "markdown",
   "metadata": {},
   "source": [
    "### TRAIN AND TEST ATTRIBUTES AND SIZES"
   ]
  },
  {
   "cell_type": "code",
   "execution_count": 5,
   "metadata": {
    "collapsed": false
   },
   "outputs": [
    {
     "name": "stdout",
     "output_type": "stream",
     "text": [
      "train-labels. bytes_label:2916\n",
      "TRAIN BYTES. bytes_vector:2102464 bytes_label:2916\n",
      "('train', 1456, 4, 19, 19, 2105380, 1456.0)\n",
      "train CORRECT\n",
      "test-labels. bytes_label:520\n",
      "TEST BYTES. bytes_vector:372552 bytes_label:520\n",
      "('test', 258, 4, 19, 19, 373072, 258.0)\n",
      "test CORRECT\n",
      "('total_images', 1714, 'total_bytes', 2478500)\n",
      "('bin', 4, 19, 19, 2478444, 1714)\n",
      "CORRECT\n"
     ]
    }
   ],
   "source": [
    "import gzip\n",
    "import struct\n",
    "    \n",
    "        \n",
    "total_images=0\n",
    "total_bytes=0\n",
    "for s in ['train','test']:   \n",
    "    with gzip.open(filename+'-'+s+'-labels-idx1-ubyte.gz') as bytestream:\n",
    "        magic_number=bytestream.read(4)\n",
    "        data=bytestream.read()\n",
    "        bytes_label=len(data)\n",
    "    \n",
    "    with gzip.open(filename+'-'+s+'-vectors-idx4-ubyte.gz') as bytestream:\n",
    "        magic_number=bytestream.read(4)\n",
    "        num_images=struct.unpack('>I',bytestream.read(4))[0]\n",
    "        size_1=struct.unpack('>I',bytestream.read(4))[0]\n",
    "        size_2=struct.unpack('>I',bytestream.read(4))[0]\n",
    "        size_3=struct.unpack('>I',bytestream.read(4))[0]\n",
    "        data=bytestream.read()\n",
    "        bytes_vector=len(data)\n",
    "    total_images+=num_images\n",
    "    total_bytes+=bytes_label+bytes_vector+24\n",
    "    print('{}-labels. bytes_label:{}'.format(s,bytes_label))\n",
    "    print('{} BYTES. bytes_vector:{} bytes_label:{}'.format(s.upper(),bytes_vector,bytes_label))\n",
    "    print(s,num_images,size_1,size_2,size_3,bytes_label+bytes_vector,float(bytes_vector)/(size_1*size_2*size_3))\n",
    "    \n",
    "    if num_images==bytes_vector/(size_1*size_2*size_3):\n",
    "        print('{} CORRECT'.format(s))\n",
    "    else:\n",
    "        print('{} INCORRECT'.format(s))\n",
    "print('total_images',total_images,'total_bytes',total_bytes)\n",
    "\n",
    "\n",
    "with open(filename + '.bin','rb') as bytestream:\n",
    "    data=bytestream.read()\n",
    "    bin_total_bytes=len(data)\n",
    "    bin_total_images=len(data)/(size_1*size_2*size_3+2)\n",
    "    print('bin',size_1,size_2,size_3,bin_total_bytes,bin_total_images)\n",
    "\n",
    "if total_images==bin_total_images:\n",
    "    print('CORRECT')\n",
    "else:\n",
    "    print('INCORRECT')\n",
    "    "
   ]
  },
  {
   "cell_type": "markdown",
   "metadata": {
    "collapsed": true
   },
   "source": [
    "## VIEW BOARDS IN SEQUENTIAL FILE"
   ]
  },
  {
   "cell_type": "code",
   "execution_count": 13,
   "metadata": {
    "collapsed": false
   },
   "outputs": [
    {
     "name": "stdout",
     "output_type": "stream",
     "text": [
      "78\n",
      "\n",
      "Black: 0 captures | White: 0 captures | Komi: 6.5\n",
      "19 . . . . . . . . . . . . . . . . . . . \n",
      "18 . . . . . . . . . . . . . . . . . . . \n",
      "17 . . . . . . . . . . . . . . . . . . . \n",
      "16 . . . . . . . . . . . . . . . X . . . \n",
      "15 . .(O). . . . . . . . . . . . . . . . \n",
      "14 . . . . . . . . . . . . . . . . . . . \n",
      "13 . . . . . . . . . . . . . . . . . . . \n",
      "12 . . . . . . . . . . . . . . . . . . . \n",
      "11 . . . . . . . . . . . . . . . . . . . \n",
      "10 . . . . . . . . . . . . . . . . . . . \n",
      " 9 . . . . . . . . . . . . . . . . . . . \n",
      " 8 . . . . . . . . . . . . . . . . . . . \n",
      " 7 . . . . . . . . . . . . . . . . . . . \n",
      " 6 . . . . . . . . . . . . . . . . . . . \n",
      " 5 . . . . . . . . . . . . . . . . . . . \n",
      " 4 . . . X . . . . . . . . . . . X . . . \n",
      " 3 . . . . . . . . . . . . . . . . . . . \n",
      " 2 . . . . . . . . . . . . . . . . . . . \n",
      " 1 . . . . . . . . . . . . . . . . . . . \n",
      "   A B C D E F G H J K L M N O P Q R S T \n",
      "186\n",
      "\n",
      "Black: 0 captures | White: 0 captures | Komi: 6.5\n",
      "19 . . . . . . . . . . . . . . . . . . . \n",
      "18 . . . . . . . . . . . . . . . . . . . \n",
      "17 . . . . . . . . . . . . . . . . . . . \n",
      "16 . . . . . . . . . . . . . . . X . . . \n",
      "15 . . O . . . . . . . . . . . . . . . . \n",
      "14 . . . . . . . . . . . . . . . . . . . \n",
      "13 . . . . . . . . . . . . . . . . . . . \n",
      "12 . . . . . . . . . . . . . . . . . . . \n",
      "11 . . . . . . . . . . . . . . . . . . . \n",
      "10 . . . . . . . . . . . . . . .(X). . . \n",
      " 9 . . . . . . . . . . . . . . . . . . . \n",
      " 8 . . . . . . . . . . . . . . . . . . . \n",
      " 7 . . . . . . . . . . . . . . . . . . . \n",
      " 6 . . . . . . . . . . . . . . . . . . . \n",
      " 5 . . . . . . . . . . . . . . . . . . . \n",
      " 4 . . . X . . . . . . . . . . . X . . . \n",
      " 3 . . . . . . . . . . . . . . . . . . . \n",
      " 2 . . . . . . . . . . . . . . . . . . . \n",
      " 1 . . . . . . . . . . . . . . . . . . . \n",
      "   A B C D E F G H J K L M N O P Q R S T \n",
      "51\n",
      "\n",
      "Black: 0 captures | White: 0 captures | Komi: 6.5\n",
      "19 . . . . . . . . . . . . . . . . . . . \n",
      "18 . . . . . . . . . . . . . . . . . . . \n",
      "17 . . . . . . . . . . . . .(O). . . . . \n",
      "16 . . . . . . . . . . . . . . . X . . . \n",
      "15 . . O . . . . . . . . . . . . . . . . \n",
      "14 . . . . . . . . . . . . . . . . . . . \n",
      "13 . . . . . . . . . . . . . . . . . . . \n",
      "12 . . . . . . . . . . . . . . . . . . . \n",
      "11 . . . . . . . . . . . . . . . . . . . \n",
      "10 . . . . . . . . . . . . . . . X . . . \n",
      " 9 . . . . . . . . . . . . . . . . . . . \n",
      " 8 . . . . . . . . . . . . . . . . . . . \n",
      " 7 . . . . . . . . . . . . . . . . . . . \n",
      " 6 . . . . . . . . . . . . . . . . . . . \n",
      " 5 . . . . . . . . . . . . . . . . . . . \n",
      " 4 . . . X . . . . . . . . . . . X . . . \n",
      " 3 . . . . . . . . . . . . . . . . . . . \n",
      " 2 . . . . . . . . . . . . . . . . . . . \n",
      " 1 . . . . . . . . . . . . . . . . . . . \n",
      "   A B C D E F G H J K L M N O P Q R S T \n",
      "67\n",
      "\n",
      "Black: 0 captures | White: 0 captures | Komi: 6.5\n",
      "19 . . . . . . . . . . . . . . . . . . . \n",
      "18 . . . . . . . . . . . . . . . . . . . \n",
      "17 . . . . . . . . . . . . . O . . . . . \n",
      "16 . . . . . . . . . .(X). . . . X . . . \n",
      "15 . . O . . . . . . . . . . . . . . . . \n",
      "14 . . . . . . . . . . . . . . . . . . . \n",
      "13 . . . . . . . . . . . . . . . . . . . \n",
      "12 . . . . . . . . . . . . . . . . . . . \n",
      "11 . . . . . . . . . . . . . . . . . . . \n",
      "10 . . . . . . . . . . . . . . . X . . . \n",
      " 9 . . . . . . . . . . . . . . . . . . . \n",
      " 8 . . . . . . . . . . . . . . . . . . . \n",
      " 7 . . . . . . . . . . . . . . . . . . . \n",
      " 6 . . . . . . . . . . . . . . . . . . . \n",
      " 5 . . . . . . . . . . . . . . . . . . . \n",
      " 4 . . . X . . . . . . . . . . . X . . . \n",
      " 3 . . . . . . . . . . . . . . . . . . . \n",
      " 2 . . . . . . . . . . . . . . . . . . . \n",
      " 1 . . . . . . . . . . . . . . . . . . . \n",
      "   A B C D E F G H J K L M N O P Q R S T \n",
      "111\n",
      "\n",
      "Black: 0 captures | White: 0 captures | Komi: 6.5\n",
      "19 . . . . . . . . . . . . . . . . . . . \n",
      "18 . . . . . . . . . . . . . . . . . . . \n",
      "17 . . . . . . . . . . . . . O . . . . . \n",
      "16 . . . . . . . . . . X . . . . X . . . \n",
      "15 . . O . . . . . . . . . . . . . . . . \n",
      "14 . . . . . . . . . . . . . . . .(O). . \n",
      "13 . . . . . . . . . . . . . . . . . . . \n",
      "12 . . . . . . . . . . . . . . . . . . . \n",
      "11 . . . . . . . . . . . . . . . . . . . \n",
      "10 . . . . . . . . . . . . . . . X . . . \n",
      " 9 . . . . . . . . . . . . . . . . . . . \n",
      " 8 . . . . . . . . . . . . . . . . . . . \n",
      " 7 . . . . . . . . . . . . . . . . . . . \n",
      " 6 . . . . . . . . . . . . . . . . . . . \n",
      " 5 . . . . . . . . . . . . . . . . . . . \n",
      " 4 . . . X . . . . . . . . . . . X . . . \n",
      " 3 . . . . . . . . . . . . . . . . . . . \n",
      " 2 . . . . . . . . . . . . . . . . . . . \n",
      " 1 . . . . . . . . . . . . . . . . . . . \n",
      "   A B C D E F G H J K L M N O P Q R S T \n"
     ]
    }
   ],
   "source": [
    "# explore bin file\n",
    "from utils import Color\n",
    "from board import Board\n",
    "import utils\n",
    "\n",
    "regs=[]\n",
    "N=properties.boardsize\n",
    "chunksize=N*N*properties.num_channels+2\n",
    "with open(filename+'.bin') as f:\n",
    "    for i in range(5):\n",
    "        chunk=f.read(chunksize)\n",
    "        if chunk:\n",
    "            regs.append(chunk)\n",
    "        else:\n",
    "            break\n",
    "board=Board(N)            \n",
    "player_color=Color.WHITE\n",
    "for line in regs:\n",
    "    board,a=Board.get_board_and_move_from_register_str(N, line, player_color)\n",
    "    print(a)\n",
    "    board.play(player_color,utils.a2p(a,N))\n",
    "    print(board)\n",
    "    if player_color==Color.BLACK:\n",
    "        player_color=Color.WHITE\n",
    "    else:\n",
    "        player_color=Color.BLACK\n",
    "    "
   ]
  },
  {
   "cell_type": "markdown",
   "metadata": {},
   "source": [
    "## BOARDS IN SHUFFLED FILE\n"
   ]
  },
  {
   "cell_type": "code",
   "execution_count": null,
   "metadata": {
    "collapsed": true
   },
   "outputs": [],
   "source": [
    "from utils import Color\n",
    "from board import Board\n",
    "import utils\n",
    "\n",
    "regs=[]\n",
    "N=properties.boardsize\n",
    "chunksize=N*N*properties.num_channels+2\n",
    "with open('shuffled_'+filename+'.bin') as f:\n",
    "    for i in range(5):\n",
    "        chunk=f.read(chunksize)\n",
    "        if chunk:\n",
    "            regs.append(chunk)\n",
    "        else:\n",
    "            break\n",
    "board=Board(N)            \n",
    "player_color=Color.WHITE\n",
    "for line in regs:\n",
    "    board,a=Board.get_board_and_move_from_register_str(N, line, player_color)\n",
    "    print(a)\n",
    "    board.play(player_color,utils.a2p(a,N))\n",
    "    print(board)\n",
    "    #if player_color==Color.BLACK:\n",
    "    #    player_color=Color.WHITE\n",
    "    #else:\n",
    "    #    player_color=Color.BLACK"
   ]
  }
 ],
 "metadata": {
  "anaconda-cloud": {},
  "kernelspec": {
   "display_name": "Python [default]",
   "language": "python",
   "name": "python2"
  },
  "language_info": {
   "codemirror_mode": {
    "name": "ipython",
    "version": 2
   },
   "file_extension": ".py",
   "mimetype": "text/x-python",
   "name": "python",
   "nbconvert_exporter": "python",
   "pygments_lexer": "ipython2",
   "version": "2.7.12"
  }
 },
 "nbformat": 4,
 "nbformat_minor": 0
}
