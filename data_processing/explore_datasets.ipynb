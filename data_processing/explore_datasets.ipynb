{
 "cells": [
  {
   "cell_type": "markdown",
   "metadata": {
    "collapsed": true
   },
   "source": [
    "## Explore"
   ]
  },
  {
   "cell_type": "code",
   "execution_count": 13,
   "metadata": {
    "collapsed": true
   },
   "outputs": [],
   "source": [
    "filename='9x9_10games'\n",
    "#filename='gogod_9x9_games'"
   ]
  },
  {
   "cell_type": "markdown",
   "metadata": {},
   "source": [
    "### TEST"
   ]
  },
  {
   "cell_type": "code",
   "execution_count": 14,
   "metadata": {
    "collapsed": false
   },
   "outputs": [
    {
     "name": "stdout",
     "output_type": "stream",
     "text": [
      "(76, '\\x00\\x00\\x00\\x04', '\\x00\\x00\\x00\\t', '\\x00\\x00\\x00\\t')\n"
     ]
    }
   ],
   "source": [
    "import gzip\n",
    "import struct\n",
    "    \n",
    "with gzip.open(filename+'-test-labels-idx1-ubyte.gz') as bytestream:\n",
    "    magic_number=bytestream.read(4)\n",
    "    \n",
    "with gzip.open(filename+'-test-vectors-idx4-ubyte.gz') as bytestream:\n",
    "    magic_number=bytestream.read(4)\n",
    "    num_images=struct.unpack('>I',bytestream.read(4))[0]\n",
    "    size_1=bytestream.read(4)\n",
    "    size_2=bytestream.read(4)\n",
    "    size_3=bytestream.read(4)\n",
    "print(num_images,size_1,size_2,size_3)"
   ]
  },
  {
   "cell_type": "markdown",
   "metadata": {},
   "source": [
    "### TRAIN"
   ]
  },
  {
   "cell_type": "code",
   "execution_count": 15,
   "metadata": {
    "collapsed": false
   },
   "outputs": [
    {
     "name": "stdout",
     "output_type": "stream",
     "text": [
      "(430, '\\x00\\x00\\x00\\x04', '\\x00\\x00\\x00\\t', '\\x00\\x00\\x00\\t')\n"
     ]
    }
   ],
   "source": [
    "import gzip\n",
    "import struct\n",
    "    \n",
    "with gzip.open(filename+'-train-labels-idx1-ubyte.gz') as bytestream:\n",
    "    magic_number=bytestream.read(4)\n",
    "\n",
    "with gzip.open(filename+'-train-vectors-idx4-ubyte.gz') as bytestream:\n",
    "    magic_number=bytestream.read(4)\n",
    "    num_images=struct.unpack('>I',bytestream.read(4))[0]\n",
    "    size_1=bytestream.read(4)\n",
    "    size_2=bytestream.read(4)\n",
    "    size_3=bytestream.read(4)\n",
    "print(num_images,size_1,size_2,size_3)"
   ]
  },
  {
   "cell_type": "code",
   "execution_count": null,
   "metadata": {
    "collapsed": true
   },
   "outputs": [],
   "source": []
  }
 ],
 "metadata": {
  "anaconda-cloud": {},
  "kernelspec": {
   "display_name": "Python [default]",
   "language": "python",
   "name": "python2"
  },
  "language_info": {
   "codemirror_mode": {
    "name": "ipython",
    "version": 2
   },
   "file_extension": ".py",
   "mimetype": "text/x-python",
   "name": "python",
   "nbconvert_exporter": "python",
   "pygments_lexer": "ipython2",
   "version": "2.7.12"
  }
 },
 "nbformat": 4,
 "nbformat_minor": 0
}
