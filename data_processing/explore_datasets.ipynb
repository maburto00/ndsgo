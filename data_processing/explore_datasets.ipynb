{
 "cells": [
  {
   "cell_type": "markdown",
   "metadata": {
    "collapsed": true
   },
   "source": [
    "## Explore"
   ]
  },
  {
   "cell_type": "code",
   "execution_count": 1,
   "metadata": {
    "collapsed": true
   },
   "outputs": [],
   "source": [
    "#filename='9x9_10games'\n",
    "#filename='gogod_9x9_games'\n",
    "filename='KGS2001'\n",
    "#filename='KGS_10games'\n",
    "#filename='KGS_100games'"
   ]
  },
  {
   "cell_type": "markdown",
   "metadata": {},
   "source": [
    "### TRAIN AND TEST ATTRIBUTES AND SIZES"
   ]
  },
  {
   "cell_type": "code",
   "execution_count": 6,
   "metadata": {
    "collapsed": false
   },
   "outputs": [
    {
     "name": "stdout",
     "output_type": "stream",
     "text": [
      "train-labels. bytes_label:736738\n",
      "TRAIN BYTES. bytes_vector:531921948 bytes_label:736738\n",
      "('train', 368367, 4, 19, 19, 532658686, 368367.0)\n",
      "train CORRECT\n",
      "test-labels. bytes_label:130018\n",
      "TEST BYTES. bytes_vector:93870108 bytes_label:130018\n",
      "('test', 65007, 4, 19, 19, 94000126, 65007.0)\n",
      "test CORRECT\n",
      "('total_images', 433374, 'total_bytes', 626658860)\n",
      "('bin', 4, 19, 19, 626658804, 433374)\n",
      "CORRECT\n"
     ]
    }
   ],
   "source": [
    "import gzip\n",
    "import struct\n",
    "    \n",
    "        \n",
    "total_images=0\n",
    "total_bytes=0\n",
    "for s in ['train','test']:   \n",
    "    with gzip.open(filename+'-'+s+'-labels-idx1-ubyte.gz') as bytestream:\n",
    "        magic_number=bytestream.read(4)\n",
    "        data=bytestream.read()\n",
    "        bytes_label=len(data)\n",
    "    \n",
    "    with gzip.open(filename+'-'+s+'-vectors-idx4-ubyte.gz') as bytestream:\n",
    "        magic_number=bytestream.read(4)\n",
    "        num_images=struct.unpack('>I',bytestream.read(4))[0]\n",
    "        size_1=struct.unpack('>I',bytestream.read(4))[0]\n",
    "        size_2=struct.unpack('>I',bytestream.read(4))[0]\n",
    "        size_3=struct.unpack('>I',bytestream.read(4))[0]\n",
    "        data=bytestream.read()\n",
    "        bytes_vector=len(data)\n",
    "    total_images+=num_images\n",
    "    total_bytes+=bytes_label+bytes_vector+24\n",
    "    print('{}-labels. bytes_label:{}'.format(s,bytes_label))\n",
    "    print('{} BYTES. bytes_vector:{} bytes_label:{}'.format(s.upper(),bytes_vector,bytes_label))\n",
    "    print(s,num_images,size_1,size_2,size_3,bytes_label+bytes_vector,float(bytes_vector)/(size_1*size_2*size_3))\n",
    "    \n",
    "    if num_images==bytes_vector/(size_1*size_2*size_3):\n",
    "        print('{} CORRECT'.format(s))\n",
    "    else:\n",
    "        print('{} INCORRECT'.format(s))\n",
    "print('total_images',total_images,'total_bytes',total_bytes)\n",
    "\n",
    "\n",
    "with open(filename + '.bin','rb') as bytestream:\n",
    "    data=bytestream.read()\n",
    "    bin_total_bytes=len(data)\n",
    "    bin_total_images=len(data)/(size_1*size_2*size_3+2)\n",
    "    print('bin',size_1,size_2,size_3,bin_total_bytes,bin_total_images)\n",
    "\n",
    "if total_images==bin_total_images:\n",
    "    print('CORRECT')\n",
    "else:\n",
    "    print('INCORRECT')\n",
    "    "
   ]
  },
  {
   "cell_type": "code",
   "execution_count": null,
   "metadata": {
    "collapsed": true
   },
   "outputs": [],
   "source": []
  },
  {
   "cell_type": "code",
   "execution_count": null,
   "metadata": {
    "collapsed": true
   },
   "outputs": [],
   "source": []
  }
 ],
 "metadata": {
  "anaconda-cloud": {},
  "kernelspec": {
   "display_name": "Python [default]",
   "language": "python",
   "name": "python2"
  },
  "language_info": {
   "codemirror_mode": {
    "name": "ipython",
    "version": 2
   },
   "file_extension": ".py",
   "mimetype": "text/x-python",
   "name": "python",
   "nbconvert_exporter": "python",
   "pygments_lexer": "ipython2",
   "version": "2.7.12"
  }
 },
 "nbformat": 4,
 "nbformat_minor": 0
}
