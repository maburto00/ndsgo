{
 "cells": [
  {
   "cell_type": "code",
   "execution_count": 1,
   "metadata": {
    "collapsed": true
   },
   "outputs": [],
   "source": [
    "def board2int(board):\n",
    "    state=0\n",
    "    #basically we are converting from base-3 to decimal\n",
    "    n=board.N\n",
    "    for i in range(n):\n",
    "        for j in range(n):\n",
    "            pos = (n * i + j)\n",
    "            if board.board[pos]=='b':\n",
    "                state = state + ((3**pos) * 1)\n",
    "            elif board.board[pos]=='w':\n",
    "                state = state + ((3 ** pos) * 1)\n",
    "    return state"
   ]
  },
  {
   "cell_type": "code",
   "execution_count": 3,
   "metadata": {
    "collapsed": false
   },
   "outputs": [],
   "source": [
    ""
   ]
  },
  {
   "cell_type": "code",
   "execution_count": 4,
   "metadata": {
    "collapsed": false
   },
   "outputs": [
    {
     "data": {
      "text/plain": [
       "[[None, None, None, None],\n",
       " [None, None, None, None],\n",
       " [None, None, None, None],\n",
       " [None, None, None, None]]"
      ]
     },
     "execution_count": 4,
     "metadata": {},
     "output_type": "execute_result"
    }
   ],
   "source": [
    "board.board"
   ]
  },
  {
   "cell_type": "code",
   "execution_count": 11,
   "metadata": {
    "collapsed": false
   },
   "outputs": [
    {
     "name": "stdout",
     "output_type": "stream",
     "text": [
      "4  .  .  .  .\n",
      "3  .  .  .  .\n",
      "2  .  .  .  .\n",
      "1  .  .  .  .\n",
      "   A  B  C  D\n"
     ]
    }
   ],
   "source": [
    "from gomill.boards import Board\n",
    "board=Board(4)\n",
    "from gomill.ascii_boards import render_board\n",
    "print(render_board(board))"
   ]
  },
  {
   "cell_type": "code",
   "execution_count": 12,
   "metadata": {
    "collapsed": false
   },
   "outputs": [
    {
     "name": "stdout",
     "output_type": "stream",
     "text": [
      "4  .  .  .  .\n",
      "3  .  .  .  .\n",
      "2  .  .  .  .\n",
      "1  #  .  .  .\n",
      "   A  B  C  D\n"
     ]
    }
   ],
   "source": [
    "board.play(0,0,'b')\n",
    "print(render_board(board))"
   ]
  },
  {
   "cell_type": "code",
   "execution_count": 13,
   "metadata": {
    "collapsed": false
   },
   "outputs": [
    {
     "name": "stdout",
     "output_type": "stream",
     "text": [
      "4  .  .  .  .\n",
      "3  .  .  .  .\n",
      "2  .  .  .  .\n",
      "1  #  #  .  .\n",
      "   A  B  C  D\n"
     ]
    }
   ],
   "source": [
    "board.play(0,1,'b')\n",
    "print(render_board(board))"
   ]
  },
  {
   "cell_type": "code",
   "execution_count": null,
   "metadata": {
    "collapsed": true
   },
   "outputs": [],
   "source": [
    ""
   ]
  }
 ],
 "metadata": {
  "kernelspec": {
   "display_name": "Python [tensorcpu2]",
   "language": "python",
   "name": "Python [tensorcpu2]"
  },
  "language_info": {
   "codemirror_mode": {
    "name": "ipython",
    "version": 2.0
   },
   "file_extension": ".py",
   "mimetype": "text/x-python",
   "name": "python",
   "nbconvert_exporter": "python",
   "pygments_lexer": "ipython2",
   "version": "2.7.11"
  }
 },
 "nbformat": 4,
 "nbformat_minor": 0
}